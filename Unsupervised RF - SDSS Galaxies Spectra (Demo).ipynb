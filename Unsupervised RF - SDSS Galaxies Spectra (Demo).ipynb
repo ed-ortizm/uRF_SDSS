{
 "cells": [
  {
   "cell_type": "markdown",
   "metadata": {},
   "source": [
    "# Introduction"
   ]
  },
  {
   "cell_type": "markdown",
   "metadata": {},
   "source": [
    "This demo provides the relevant Python code in order to apply the algorithm as described in the document: \"Applying Machine-Learning Algorithms to Large Datasets of Galaxy Spectra: Finding Patterns and Detecting Outliers\", by Guy Goren, with Prof. Dovi Poznanski as the advisor. The document is provided separately.\n",
    "\n",
    "\n",
    "This demo focuses on the basic steps necessary to download the data set, perform feature engineering, apply the unsupervised Random Forest (RF) algorithm, and perform a basic analysis of the results. We'll use only a sample of 1000 objects from the SDSS DR14 in order to obtain the outputs quickly. When working with larger samples, it is highly suggested to run the heavy computations on a strong multi-core computer. Most of the functions are already parallelized.\n",
    "\n",
    "\n",
    "**Let's start.**"
   ]
  },
  {
   "cell_type": "markdown",
   "metadata": {},
   "source": [
    "# 0. Import"
   ]
  },
  {
   "cell_type": "markdown",
   "metadata": {},
   "source": [
    "**Please make sure that you have all of the necessary packages installed.**"
   ]
  },
  {
   "cell_type": "code",
   "execution_count": 1,
   "metadata": {},
   "outputs": [],
   "source": [
    "# Imports necessary for Jupyter Notebook\n",
    "import pandas as pd\n",
    "import numpy as np\n",
    "import matplotlib.pyplot as plt\n",
    "import sklearn.ensemble\n",
    "import sklearn.manifold\n",
    "from scipy.stats import describe\n",
    "import urllib\n",
    "import os\n",
    "import multiprocessing as mp\n",
    "from functools import partial\n",
    "from itertools import compress\n",
    "import warnings\n",
    "from joblib import Parallel, delayed\n",
    "from astropy.io import fits\n",
    "import specutils.extinction\n",
    "import sfdmap\n",
    "from sklearn.preprocessing import Imputer\n",
    "from scipy import signal\n",
    "from functools import partial\n",
    "from scipy.interpolate import interp1d\n",
    "from time import time, sleep\n",
    "\n",
    "# Import uRF_SDSS functions\n",
    "from uRF_SDSS import *"
   ]
  },
  {
   "cell_type": "markdown",
   "metadata": {},
   "source": [
    "# 1. Obtain the Spectra from SDSS DR14"
   ]
  },
  {
   "cell_type": "markdown",
   "metadata": {},
   "source": [
    "## 1.1. Download Galaxies' Identifiers"
   ]
  },
  {
   "cell_type": "markdown",
   "metadata": {},
   "source": [
    "** You can skip this step if desired, as the 'demo.csv' file should already be located in the working directory (from Git). **"
   ]
  },
  {
   "cell_type": "markdown",
   "metadata": {},
   "source": [
    "1. Go to: [CasJobs](http://skyserver.sdss.org/CasJobs/)\n",
    "    1. Create an account to the SciServer. ([here](https://apps.sciserver.org/login-portal/register?))\n",
    "    2. Login to the SciServer. ([here](https://apps.sciserver.org/login-portal/login))\n",
    "4. Go to: [CasJobs: Submit Job](http://skyserver.sdss.org/CasJobs/SubmitJob.aspx)\n",
    "    1. Select 'DR14' under 'Context'.\n",
    "    2. Submit the following query:\n",
    "    ```sql\n",
    "     SELECT TOP 2000\n",
    "        specobjid, z, z_noqso, snMedian, run2d, ra, dec,\n",
    "        plate, mjd, fiberid\n",
    "     FROM SpecobjAll\n",
    "     WHERE \n",
    "        class='GALAXY'\n",
    "     ORDER BY snMedian DESC\n",
    "        ```\n",
    "        * The exact SQL query can be modified to obtain further details, such as photometry, spectral lines flux values, mass, and more.\n",
    "        * The SDSS tables descriptions can be found at: [Schema Browser](http://skyserver.sdss.org/dr14/en/help/browser/browser.aspx)\n",
    "5. Go to: [MyDB](http://skyserver.sdss.org/CasJobs/MyDB.aspx)\n",
    "    1. Download the demo table as Comma Separated Values (.csv)\n",
    "    2. Move the .csv file downloaded to a folder named 'db' located at the working directory (where this notebook is located) and rename it as 'demo.csv'."
   ]
  },
  {
   "cell_type": "markdown",
   "metadata": {},
   "source": [
    "## 1.2. Load Galaxies' Identifiers as a Dataframe"
   ]
  },
  {
   "cell_type": "code",
   "execution_count": 2,
   "metadata": {},
   "outputs": [
    {
     "data": {
      "text/html": [
       "<div>\n",
       "<style scoped>\n",
       "    .dataframe tbody tr th:only-of-type {\n",
       "        vertical-align: middle;\n",
       "    }\n",
       "\n",
       "    .dataframe tbody tr th {\n",
       "        vertical-align: top;\n",
       "    }\n",
       "\n",
       "    .dataframe thead th {\n",
       "        text-align: right;\n",
       "    }\n",
       "</style>\n",
       "<table border=\"1\" class=\"dataframe\">\n",
       "  <thead>\n",
       "    <tr style=\"text-align: right;\">\n",
       "      <th></th>\n",
       "      <th>specobjid</th>\n",
       "      <th>z</th>\n",
       "      <th>z_noqso</th>\n",
       "      <th>snMedian</th>\n",
       "      <th>run2d</th>\n",
       "      <th>ra</th>\n",
       "      <th>dec</th>\n",
       "      <th>plate</th>\n",
       "      <th>mjd</th>\n",
       "      <th>fiberid</th>\n",
       "    </tr>\n",
       "  </thead>\n",
       "  <tbody>\n",
       "    <tr>\n",
       "      <th>0</th>\n",
       "      <td>6910802875955257344</td>\n",
       "      <td>0.026050</td>\n",
       "      <td>0.026050</td>\n",
       "      <td>108.81650</td>\n",
       "      <td>v5_10_0</td>\n",
       "      <td>356.788330</td>\n",
       "      <td>15.596743</td>\n",
       "      <td>6138</td>\n",
       "      <td>56598</td>\n",
       "      <td>106</td>\n",
       "    </tr>\n",
       "    <tr>\n",
       "      <th>1</th>\n",
       "      <td>3377787487832350720</td>\n",
       "      <td>0.000049</td>\n",
       "      <td>0.000000</td>\n",
       "      <td>98.86369</td>\n",
       "      <td>104</td>\n",
       "      <td>162.985050</td>\n",
       "      <td>40.109464</td>\n",
       "      <td>3000</td>\n",
       "      <td>54843</td>\n",
       "      <td>319</td>\n",
       "    </tr>\n",
       "    <tr>\n",
       "      <th>2</th>\n",
       "      <td>1874677820647565312</td>\n",
       "      <td>0.016569</td>\n",
       "      <td>0.000000</td>\n",
       "      <td>98.10400</td>\n",
       "      <td>26</td>\n",
       "      <td>49.742075</td>\n",
       "      <td>41.470119</td>\n",
       "      <td>1665</td>\n",
       "      <td>52976</td>\n",
       "      <td>198</td>\n",
       "    </tr>\n",
       "    <tr>\n",
       "      <th>3</th>\n",
       "      <td>6910873794455248896</td>\n",
       "      <td>0.065718</td>\n",
       "      <td>0.065718</td>\n",
       "      <td>97.10170</td>\n",
       "      <td>v5_10_0</td>\n",
       "      <td>355.527890</td>\n",
       "      <td>15.024204</td>\n",
       "      <td>6138</td>\n",
       "      <td>56598</td>\n",
       "      <td>364</td>\n",
       "    </tr>\n",
       "    <tr>\n",
       "      <th>4</th>\n",
       "      <td>1874764682066159616</td>\n",
       "      <td>0.016749</td>\n",
       "      <td>0.000000</td>\n",
       "      <td>96.93578</td>\n",
       "      <td>26</td>\n",
       "      <td>49.964517</td>\n",
       "      <td>41.573585</td>\n",
       "      <td>1665</td>\n",
       "      <td>52976</td>\n",
       "      <td>514</td>\n",
       "    </tr>\n",
       "  </tbody>\n",
       "</table>\n",
       "</div>"
      ],
      "text/plain": [
       "             specobjid         z   z_noqso   snMedian    run2d          ra  \\\n",
       "0  6910802875955257344  0.026050  0.026050  108.81650  v5_10_0  356.788330   \n",
       "1  3377787487832350720  0.000049  0.000000   98.86369      104  162.985050   \n",
       "2  1874677820647565312  0.016569  0.000000   98.10400       26   49.742075   \n",
       "3  6910873794455248896  0.065718  0.065718   97.10170  v5_10_0  355.527890   \n",
       "4  1874764682066159616  0.016749  0.000000   96.93578       26   49.964517   \n",
       "\n",
       "         dec  plate    mjd  fiberid  \n",
       "0  15.596743   6138  56598      106  \n",
       "1  40.109464   3000  54843      319  \n",
       "2  41.470119   1665  52976      198  \n",
       "3  15.024204   6138  56598      364  \n",
       "4  41.573585   1665  52976      514  "
      ]
     },
     "execution_count": 2,
     "metadata": {},
     "output_type": "execute_result"
    }
   ],
   "source": [
    "dbPath = os.getcwd() + '\\\\db\\\\'\n",
    "gs = pd.read_csv(dbPath + 'demo.csv', header=0)\n",
    "gs.head()"
   ]
  },
  {
   "cell_type": "markdown",
   "metadata": {},
   "source": [
    "## 1.3. Choose the Desired Sample"
   ]
  },
  {
   "cell_type": "code",
   "execution_count": 3,
   "metadata": {},
   "outputs": [],
   "source": [
    "gs['url'] = ['http://skyserver.sdss.org/dr14/en/tools/explore/summary.aspx?plate=' + str(row['plate']).zfill(4) + '&mjd=' + str(row['mjd']) + '&fiber=' + str(row['fiberid']).zfill(4) for i, row in gs.iterrows()]"
   ]
  },
  {
   "cell_type": "code",
   "execution_count": 4,
   "metadata": {},
   "outputs": [
    {
     "data": {
      "text/html": [
       "<div>\n",
       "<style scoped>\n",
       "    .dataframe tbody tr th:only-of-type {\n",
       "        vertical-align: middle;\n",
       "    }\n",
       "\n",
       "    .dataframe tbody tr th {\n",
       "        vertical-align: top;\n",
       "    }\n",
       "\n",
       "    .dataframe thead th {\n",
       "        text-align: right;\n",
       "    }\n",
       "</style>\n",
       "<table border=\"1\" class=\"dataframe\">\n",
       "  <thead>\n",
       "    <tr style=\"text-align: right;\">\n",
       "      <th></th>\n",
       "      <th>specobjid</th>\n",
       "      <th>z</th>\n",
       "      <th>z_noqso</th>\n",
       "      <th>snMedian</th>\n",
       "      <th>run2d</th>\n",
       "      <th>ra</th>\n",
       "      <th>dec</th>\n",
       "      <th>plate</th>\n",
       "      <th>mjd</th>\n",
       "      <th>fiberid</th>\n",
       "      <th>url</th>\n",
       "    </tr>\n",
       "  </thead>\n",
       "  <tbody>\n",
       "    <tr>\n",
       "      <th>0</th>\n",
       "      <td>6910802875955257344</td>\n",
       "      <td>0.026050</td>\n",
       "      <td>0.026050</td>\n",
       "      <td>108.81650</td>\n",
       "      <td>v5_10_0</td>\n",
       "      <td>356.788330</td>\n",
       "      <td>15.596743</td>\n",
       "      <td>6138</td>\n",
       "      <td>56598</td>\n",
       "      <td>106</td>\n",
       "      <td>http://skyserver.sdss.org/dr14/en/tools/explor...</td>\n",
       "    </tr>\n",
       "    <tr>\n",
       "      <th>1</th>\n",
       "      <td>1874677820647565312</td>\n",
       "      <td>0.016569</td>\n",
       "      <td>0.000000</td>\n",
       "      <td>98.10400</td>\n",
       "      <td>26</td>\n",
       "      <td>49.742075</td>\n",
       "      <td>41.470119</td>\n",
       "      <td>1665</td>\n",
       "      <td>52976</td>\n",
       "      <td>198</td>\n",
       "      <td>http://skyserver.sdss.org/dr14/en/tools/explor...</td>\n",
       "    </tr>\n",
       "    <tr>\n",
       "      <th>2</th>\n",
       "      <td>6910873794455248896</td>\n",
       "      <td>0.065718</td>\n",
       "      <td>0.065718</td>\n",
       "      <td>97.10170</td>\n",
       "      <td>v5_10_0</td>\n",
       "      <td>355.527890</td>\n",
       "      <td>15.024204</td>\n",
       "      <td>6138</td>\n",
       "      <td>56598</td>\n",
       "      <td>364</td>\n",
       "      <td>http://skyserver.sdss.org/dr14/en/tools/explor...</td>\n",
       "    </tr>\n",
       "    <tr>\n",
       "      <th>3</th>\n",
       "      <td>1874764682066159616</td>\n",
       "      <td>0.016749</td>\n",
       "      <td>0.000000</td>\n",
       "      <td>96.93578</td>\n",
       "      <td>26</td>\n",
       "      <td>49.964517</td>\n",
       "      <td>41.573585</td>\n",
       "      <td>1665</td>\n",
       "      <td>52976</td>\n",
       "      <td>514</td>\n",
       "      <td>http://skyserver.sdss.org/dr14/en/tools/explor...</td>\n",
       "    </tr>\n",
       "    <tr>\n",
       "      <th>4</th>\n",
       "      <td>1874756710606858240</td>\n",
       "      <td>0.017909</td>\n",
       "      <td>0.000000</td>\n",
       "      <td>94.13022</td>\n",
       "      <td>26</td>\n",
       "      <td>49.861444</td>\n",
       "      <td>41.540485</td>\n",
       "      <td>1665</td>\n",
       "      <td>52976</td>\n",
       "      <td>485</td>\n",
       "      <td>http://skyserver.sdss.org/dr14/en/tools/explor...</td>\n",
       "    </tr>\n",
       "  </tbody>\n",
       "</table>\n",
       "</div>"
      ],
      "text/plain": [
       "             specobjid         z   z_noqso   snMedian    run2d          ra  \\\n",
       "0  6910802875955257344  0.026050  0.026050  108.81650  v5_10_0  356.788330   \n",
       "1  1874677820647565312  0.016569  0.000000   98.10400       26   49.742075   \n",
       "2  6910873794455248896  0.065718  0.065718   97.10170  v5_10_0  355.527890   \n",
       "3  1874764682066159616  0.016749  0.000000   96.93578       26   49.964517   \n",
       "4  1874756710606858240  0.017909  0.000000   94.13022       26   49.861444   \n",
       "\n",
       "         dec  plate    mjd  fiberid  \\\n",
       "0  15.596743   6138  56598      106   \n",
       "1  41.470119   1665  52976      198   \n",
       "2  15.024204   6138  56598      364   \n",
       "3  41.573585   1665  52976      514   \n",
       "4  41.540485   1665  52976      485   \n",
       "\n",
       "                                                 url  \n",
       "0  http://skyserver.sdss.org/dr14/en/tools/explor...  \n",
       "1  http://skyserver.sdss.org/dr14/en/tools/explor...  \n",
       "2  http://skyserver.sdss.org/dr14/en/tools/explor...  \n",
       "3  http://skyserver.sdss.org/dr14/en/tools/explor...  \n",
       "4  http://skyserver.sdss.org/dr14/en/tools/explor...  "
      ]
     },
     "execution_count": 4,
     "metadata": {},
     "output_type": "execute_result"
    }
   ],
   "source": [
    "# Use z_noqso if possible\n",
    "gs['z'] = [row['z_noqso'] if row['z_noqso']!=0 else row['z'] for i, row in gs.iterrows()]\n",
    "\n",
    "# Remove galaxies with redshift z<=0.01\n",
    "gs = gs[gs.z > 0.01]\n",
    "gs.index = np.arange(len(gs))\n",
    "\n",
    "# Choose the top n_obs median SNR objects\n",
    "n_obs = 1000\n",
    "gs = gs[:n_obs]\n",
    "\n",
    "# Create links to their summary on the skyserver - it would be useful later\n",
    "gs['url'] = ['http://skyserver.sdss.org/dr14/en/tools/explore/summary.aspx?plate=' + str(row['plate']).zfill(4) + '&mjd=' + str(row['mjd']) + '&fiber=' + str(row['fiberid']).zfill(4) for i, row in gs.iterrows()]\n",
    "\n",
    "# Show DataFrame's head\n",
    "gs.head().style.format({'url': make_clickable})"
   ]
  },
  {
   "cell_type": "markdown",
   "metadata": {},
   "source": [
    "**Let's see the redshift and SNR distributions**"
   ]
  },
  {
   "cell_type": "code",
   "execution_count": 5,
   "metadata": {},
   "outputs": [
    {
     "data": {
      "image/png": "[encoded data removed]",
      "text/plain": [
       "<Figure size 1008x504 with 2 Axes>"
      ]
     },
     "metadata": {},
     "output_type": "display_data"
    }
   ],
   "source": [
    "fig, axarr = plt.subplots(1, 2)\n",
    "\n",
    "fig.set_figheight(7)\n",
    "fig.set_figwidth(14)\n",
    "\n",
    "ax1 = axarr[0]\n",
    "ax1.hist(gs.z, bins=len(gs)/50)\n",
    "ax1.set_xlabel('z')\n",
    "ax1.set_ylabel('Count')\n",
    "ax1.set_title('Redshift Histogram')\n",
    "\n",
    "ax2 = axarr[1]\n",
    "ax2.hist(gs.snMedian, bins=len(gs)/50)\n",
    "ax2.set_xlabel('median SNR')\n",
    "ax2.set_ylabel('Count')\n",
    "ax2.set_title('Median SNR Histogram')\n",
    "\n",
    "plt.show()"
   ]
  },
  {
   "cell_type": "markdown",
   "metadata": {},
   "source": [
    "\n",
    "## 1.4. Download .fits files"
   ]
  },
  {
   "cell_type": "markdown",
   "metadata": {},
   "source": [
    "**It is necessary only if .fits files weren't downloaded from Git. It might take up to 20 minutes **"
   ]
  },
  {
   "cell_type": "code",
   "execution_count": 6,
   "metadata": {},
   "outputs": [
    {
     "name": "stdout",
     "output_type": "stream",
     "text": [
      "*** Getting  1000 fits files ****\n",
      "  Done! Finished downloading .fits files\t\n",
      "  Failed to download: 0\n",
      "  Time: 715.63 [s]\n"
     ]
    }
   ],
   "source": [
    "# Downloads .fits files from SDSS dr14 parallelly\n",
    "getFitsFiles(gs, dbPath)"
   ]
  },
  {
   "cell_type": "markdown",
   "metadata": {},
   "source": [
    "**10 attempts are performed in order to download each .fits file.**\n",
    "<br>\n",
    "**Yet, if any there are any failed downloads, run it again.**\n",
    "<br>\n",
    "(don't worry, it will quickly download only the missing files)"
   ]
  },
  {
   "cell_type": "markdown",
   "metadata": {},
   "source": [
    "## 1.5. Obtain E(B-V) Values"
   ]
  },
  {
   "cell_type": "markdown",
   "metadata": {},
   "source": [
    "**First, we calculate the E(B-V) values for each galaxy, based on the dust map provided, by its (ra,dec)**\n",
    "<br>\n",
    "**If the dust maps weren't downloaded from Git, perform the following steps:**\n",
    "1. Download the dust maps files from [here](https://github.com/kbarbary/sfddata)\n",
    "2. Place the 4 files in '...\\db\\sfddata-master\\' folder in your working directory."
   ]
  },
  {
   "cell_type": "code",
   "execution_count": 7,
   "metadata": {},
   "outputs": [
    {
     "name": "stderr",
     "output_type": "stream",
     "text": [
      "[Parallel(n_jobs=-1)]: Using backend LokyBackend with 4 concurrent workers.\n",
      "[Parallel(n_jobs=-1)]: Done  42 tasks      | elapsed:   24.7s\n",
      "[Parallel(n_jobs=-1)]: Done 192 tasks      | elapsed:   42.0s\n",
      "[Parallel(n_jobs=-1)]: Done 442 tasks      | elapsed:  1.2min\n"
     ]
    },
    {
     "ename": "KeyboardInterrupt",
     "evalue": "",
     "output_type": "error",
     "traceback": [
      "\u001b[1;31m---------------------------------------------------------------------------\u001b[0m",
      "\u001b[1;31mKeyboardInterrupt\u001b[0m                         Traceback (most recent call last)",
      "\u001b[1;32m<ipython-input-7-fda98a69fdbf>\u001b[0m in \u001b[0;36m<module>\u001b[1;34m()\u001b[0m\n\u001b[1;32m----> 1\u001b[1;33m \u001b[0mgs\u001b[0m\u001b[1;33m[\u001b[0m\u001b[1;34m'ebv'\u001b[0m\u001b[1;33m]\u001b[0m \u001b[1;33m=\u001b[0m \u001b[0mcalcEbv\u001b[0m\u001b[1;33m(\u001b[0m\u001b[0mgs\u001b[0m\u001b[1;33m,\u001b[0m \u001b[0mdbPath\u001b[0m\u001b[1;33m)\u001b[0m\u001b[1;33m\u001b[0m\u001b[0m\n\u001b[0m",
      "\u001b[1;32mE:\\Demo\\uRF_SDSS.py\u001b[0m in \u001b[0;36mcalcEbv\u001b[1;34m(gs, dbPath)\u001b[0m\n\u001b[0;32m    140\u001b[0m         \u001b[1;31m# Calculate E(b-v) for each galaxy parallelly\u001b[0m\u001b[1;33m\u001b[0m\u001b[1;33m\u001b[0m\u001b[0m\n\u001b[0;32m    141\u001b[0m         res = Parallel(n_jobs=-1, verbose=1)(\n\u001b[1;32m--> 142\u001b[1;33m             delayed(calcEbv_i)(gs.iloc[i], ebvMap, i) for i in xrange(len(gs)))\n\u001b[0m\u001b[0;32m    143\u001b[0m \u001b[1;33m\u001b[0m\u001b[0m\n\u001b[0;32m    144\u001b[0m         \u001b[0mres\u001b[0m \u001b[1;33m=\u001b[0m \u001b[0msorted\u001b[0m\u001b[1;33m(\u001b[0m\u001b[0mres\u001b[0m\u001b[1;33m,\u001b[0m \u001b[0mkey\u001b[0m\u001b[1;33m=\u001b[0m\u001b[1;32mlambda\u001b[0m \u001b[0mx\u001b[0m\u001b[1;33m:\u001b[0m \u001b[0mx\u001b[0m\u001b[1;33m[\u001b[0m\u001b[1;36m0\u001b[0m\u001b[1;33m]\u001b[0m\u001b[1;33m)\u001b[0m\u001b[1;33m\u001b[0m\u001b[0m\n",
      "\u001b[1;32mC:\\Users\\Lenovo\\Anaconda2\\lib\\site-packages\\joblib\\parallel.pyc\u001b[0m in \u001b[0;36m__call__\u001b[1;34m(self, iterable)\u001b[0m\n\u001b[0;32m    992\u001b[0m \u001b[1;33m\u001b[0m\u001b[0m\n\u001b[0;32m    993\u001b[0m             \u001b[1;32mwith\u001b[0m \u001b[0mself\u001b[0m\u001b[1;33m.\u001b[0m\u001b[0m_backend\u001b[0m\u001b[1;33m.\u001b[0m\u001b[0mretrieval_context\u001b[0m\u001b[1;33m(\u001b[0m\u001b[1;33m)\u001b[0m\u001b[1;33m:\u001b[0m\u001b[1;33m\u001b[0m\u001b[0m\n\u001b[1;32m--> 994\u001b[1;33m                 \u001b[0mself\u001b[0m\u001b[1;33m.\u001b[0m\u001b[0mretrieve\u001b[0m\u001b[1;33m(\u001b[0m\u001b[1;33m)\u001b[0m\u001b[1;33m\u001b[0m\u001b[0m\n\u001b[0m\u001b[0;32m    995\u001b[0m             \u001b[1;31m# Make sure that we get a last message telling us we are done\u001b[0m\u001b[1;33m\u001b[0m\u001b[1;33m\u001b[0m\u001b[0m\n\u001b[0;32m    996\u001b[0m             \u001b[0melapsed_time\u001b[0m \u001b[1;33m=\u001b[0m \u001b[0mtime\u001b[0m\u001b[1;33m.\u001b[0m\u001b[0mtime\u001b[0m\u001b[1;33m(\u001b[0m\u001b[1;33m)\u001b[0m \u001b[1;33m-\u001b[0m \u001b[0mself\u001b[0m\u001b[1;33m.\u001b[0m\u001b[0m_start_time\u001b[0m\u001b[1;33m\u001b[0m\u001b[0m\n",
      "\u001b[1;32mC:\\Users\\Lenovo\\Anaconda2\\lib\\site-packages\\joblib\\parallel.pyc\u001b[0m in \u001b[0;36mretrieve\u001b[1;34m(self)\u001b[0m\n\u001b[0;32m    895\u001b[0m             \u001b[1;32mtry\u001b[0m\u001b[1;33m:\u001b[0m\u001b[1;33m\u001b[0m\u001b[0m\n\u001b[0;32m    896\u001b[0m                 \u001b[1;32mif\u001b[0m \u001b[0mgetattr\u001b[0m\u001b[1;33m(\u001b[0m\u001b[0mself\u001b[0m\u001b[1;33m.\u001b[0m\u001b[0m_backend\u001b[0m\u001b[1;33m,\u001b[0m \u001b[1;34m'supports_timeout'\u001b[0m\u001b[1;33m,\u001b[0m \u001b[0mFalse\u001b[0m\u001b[1;33m)\u001b[0m\u001b[1;33m:\u001b[0m\u001b[1;33m\u001b[0m\u001b[0m\n\u001b[1;32m--> 897\u001b[1;33m                     \u001b[0mself\u001b[0m\u001b[1;33m.\u001b[0m\u001b[0m_output\u001b[0m\u001b[1;33m.\u001b[0m\u001b[0mextend\u001b[0m\u001b[1;33m(\u001b[0m\u001b[0mjob\u001b[0m\u001b[1;33m.\u001b[0m\u001b[0mget\u001b[0m\u001b[1;33m(\u001b[0m\u001b[0mtimeout\u001b[0m\u001b[1;33m=\u001b[0m\u001b[0mself\u001b[0m\u001b[1;33m.\u001b[0m\u001b[0mtimeout\u001b[0m\u001b[1;33m)\u001b[0m\u001b[1;33m)\u001b[0m\u001b[1;33m\u001b[0m\u001b[0m\n\u001b[0m\u001b[0;32m    898\u001b[0m                 \u001b[1;32melse\u001b[0m\u001b[1;33m:\u001b[0m\u001b[1;33m\u001b[0m\u001b[0m\n\u001b[0;32m    899\u001b[0m                     \u001b[0mself\u001b[0m\u001b[1;33m.\u001b[0m\u001b[0m_output\u001b[0m\u001b[1;33m.\u001b[0m\u001b[0mextend\u001b[0m\u001b[1;33m(\u001b[0m\u001b[0mjob\u001b[0m\u001b[1;33m.\u001b[0m\u001b[0mget\u001b[0m\u001b[1;33m(\u001b[0m\u001b[1;33m)\u001b[0m\u001b[1;33m)\u001b[0m\u001b[1;33m\u001b[0m\u001b[0m\n",
      "\u001b[1;32mC:\\Users\\Lenovo\\Anaconda2\\lib\\site-packages\\joblib\\_parallel_backends.pyc\u001b[0m in \u001b[0;36mwrap_future_result\u001b[1;34m(future, timeout)\u001b[0m\n\u001b[0;32m    513\u001b[0m         AsyncResults.get from multiprocessing.\"\"\"\n\u001b[0;32m    514\u001b[0m         \u001b[1;32mtry\u001b[0m\u001b[1;33m:\u001b[0m\u001b[1;33m\u001b[0m\u001b[0m\n\u001b[1;32m--> 515\u001b[1;33m             \u001b[1;32mreturn\u001b[0m \u001b[0mfuture\u001b[0m\u001b[1;33m.\u001b[0m\u001b[0mresult\u001b[0m\u001b[1;33m(\u001b[0m\u001b[0mtimeout\u001b[0m\u001b[1;33m=\u001b[0m\u001b[0mtimeout\u001b[0m\u001b[1;33m)\u001b[0m\u001b[1;33m\u001b[0m\u001b[0m\n\u001b[0m\u001b[0;32m    516\u001b[0m         \u001b[1;32mexcept\u001b[0m \u001b[0mLokyTimeoutError\u001b[0m\u001b[1;33m:\u001b[0m\u001b[1;33m\u001b[0m\u001b[0m\n\u001b[0;32m    517\u001b[0m             \u001b[1;32mraise\u001b[0m \u001b[0mTimeoutError\u001b[0m\u001b[1;33m(\u001b[0m\u001b[1;33m)\u001b[0m\u001b[1;33m\u001b[0m\u001b[0m\n",
      "\u001b[1;32mC:\\Users\\Lenovo\\Anaconda2\\lib\\site-packages\\joblib\\externals\\loky\\_base.pyc\u001b[0m in \u001b[0;36mresult\u001b[1;34m(self, timeout)\u001b[0m\n\u001b[0;32m    424\u001b[0m                 \u001b[1;32mreturn\u001b[0m \u001b[0mself\u001b[0m\u001b[1;33m.\u001b[0m\u001b[0m__get_result\u001b[0m\u001b[1;33m(\u001b[0m\u001b[1;33m)\u001b[0m\u001b[1;33m\u001b[0m\u001b[0m\n\u001b[0;32m    425\u001b[0m \u001b[1;33m\u001b[0m\u001b[0m\n\u001b[1;32m--> 426\u001b[1;33m             \u001b[0mself\u001b[0m\u001b[1;33m.\u001b[0m\u001b[0m_condition\u001b[0m\u001b[1;33m.\u001b[0m\u001b[0mwait\u001b[0m\u001b[1;33m(\u001b[0m\u001b[0mtimeout\u001b[0m\u001b[1;33m)\u001b[0m\u001b[1;33m\u001b[0m\u001b[0m\n\u001b[0m\u001b[0;32m    427\u001b[0m \u001b[1;33m\u001b[0m\u001b[0m\n\u001b[0;32m    428\u001b[0m             \u001b[1;32mif\u001b[0m \u001b[0mself\u001b[0m\u001b[1;33m.\u001b[0m\u001b[0m_state\u001b[0m \u001b[1;32min\u001b[0m \u001b[1;33m[\u001b[0m\u001b[0mCANCELLED\u001b[0m\u001b[1;33m,\u001b[0m \u001b[0mCANCELLED_AND_NOTIFIED\u001b[0m\u001b[1;33m]\u001b[0m\u001b[1;33m:\u001b[0m\u001b[1;33m\u001b[0m\u001b[0m\n",
      "\u001b[1;32mC:\\Users\\Lenovo\\Anaconda2\\lib\\threading.pyc\u001b[0m in \u001b[0;36mwait\u001b[1;34m(self, timeout)\u001b[0m\n\u001b[0;32m    338\u001b[0m         \u001b[1;32mtry\u001b[0m\u001b[1;33m:\u001b[0m    \u001b[1;31m# restore state no matter what (e.g., KeyboardInterrupt)\u001b[0m\u001b[1;33m\u001b[0m\u001b[0m\n\u001b[0;32m    339\u001b[0m             \u001b[1;32mif\u001b[0m \u001b[0mtimeout\u001b[0m \u001b[1;32mis\u001b[0m \u001b[0mNone\u001b[0m\u001b[1;33m:\u001b[0m\u001b[1;33m\u001b[0m\u001b[0m\n\u001b[1;32m--> 340\u001b[1;33m                 \u001b[0mwaiter\u001b[0m\u001b[1;33m.\u001b[0m\u001b[0macquire\u001b[0m\u001b[1;33m(\u001b[0m\u001b[1;33m)\u001b[0m\u001b[1;33m\u001b[0m\u001b[0m\n\u001b[0m\u001b[0;32m    341\u001b[0m                 \u001b[1;32mif\u001b[0m \u001b[0m__debug__\u001b[0m\u001b[1;33m:\u001b[0m\u001b[1;33m\u001b[0m\u001b[0m\n\u001b[0;32m    342\u001b[0m                     \u001b[0mself\u001b[0m\u001b[1;33m.\u001b[0m\u001b[0m_note\u001b[0m\u001b[1;33m(\u001b[0m\u001b[1;34m\"%s.wait(): got it\"\u001b[0m\u001b[1;33m,\u001b[0m \u001b[0mself\u001b[0m\u001b[1;33m)\u001b[0m\u001b[1;33m\u001b[0m\u001b[0m\n",
      "\u001b[1;31mKeyboardInterrupt\u001b[0m: "
     ]
    }
   ],
   "source": [
    "# Calculate E(B-V) values for each galaxy (parallelly)\n",
    "gs['ebv'] = calcEbv(gs, dbPath)"
   ]
  },
  {
   "cell_type": "markdown",
   "metadata": {},
   "source": [
    "# 2. Obtain Spectra & Feature Engineering"
   ]
  },
  {
   "cell_type": "markdown",
   "metadata": {},
   "source": [
    "**We obtain the spectra and perform most of the feature engineering with a single function**"
   ]
  },
  {
   "cell_type": "code",
   "execution_count": null,
   "metadata": {},
   "outputs": [],
   "source": [
    "# Obtaining the spectra, removing bad pixels, deredenning, de-redshift, \n",
    "# placing on the same grid, normalizing & smoothing (parallelly)\n",
    "gs, specs, grid, specobjids = fitsToSpecs(gs, dbPath)"
   ]
  },
  {
   "cell_type": "markdown",
   "metadata": {},
   "source": [
    "## Removing the continuum"
   ]
  },
  {
   "cell_type": "code",
   "execution_count": null,
   "metadata": {},
   "outputs": [],
   "source": [
    "# Calculate the spectrum after its continuum was removed and the polynomial coefficients used for the fit\n",
    "specs_no_cont, poly_coefs = remove_cont(specs, grid)"
   ]
  },
  {
   "cell_type": "markdown",
   "metadata": {},
   "source": [
    "** Let's see how a random spectrum looks like before and after removing the continuum **"
   ]
  },
  {
   "cell_type": "code",
   "execution_count": null,
   "metadata": {},
   "outputs": [],
   "source": [
    "ix = np.random.randint(0, len(gs))\n",
    "\n",
    "fig, axarr = plt.subplots(1, 2)\n",
    "\n",
    "fig.set_figheight(7)\n",
    "fig.set_figwidth(14)\n",
    "\n",
    "ax1 = axarr[0]\n",
    "ax1.plot(grid, specs[ix], label='Flux')\n",
    "ax1.plot(grid, np.poly1d(poly_coefs[ix])(grid), label='Fit')\n",
    "ax1.set_xlabel('Wavelength [$\\AA$]')\n",
    "ax1.set_ylabel('Normalized Flux [ul]')\n",
    "ax1.set_title('Before')\n",
    "ax1.legend()\n",
    "\n",
    "ax2 = axarr[1]\n",
    "ax2.plot(grid, specs_no_cont[ix])\n",
    "ax2.set_xlabel('Wavelength [$\\AA$]')\n",
    "ax2.set_ylabel('Normalized Flux [ul]')\n",
    "ax2.set_title('After')\n",
    "\n",
    "plt.show()"
   ]
  },
  {
   "cell_type": "markdown",
   "metadata": {},
   "source": [
    "# 3. Unsupervized Random Forest (RF)"
   ]
  },
  {
   "cell_type": "markdown",
   "metadata": {},
   "source": [
    "## 3.1. Perpare RF's input"
   ]
  },
  {
   "cell_type": "code",
   "execution_count": null,
   "metadata": {},
   "outputs": [],
   "source": [
    "# Create synthetic data\n",
    "specs_no_cont_syn = return_synthetic_data(specs_no_cont)\n",
    "\n",
    "# Merge real and synthetic data and label them\n",
    "X, y = merge_work_and_synthetic_samples(specs_no_cont, specs_no_cont_syn)"
   ]
  },
  {
   "cell_type": "markdown",
   "metadata": {},
   "source": [
    "** How a random synthetic object looks like? **"
   ]
  },
  {
   "cell_type": "code",
   "execution_count": null,
   "metadata": {},
   "outputs": [],
   "source": [
    "ix = np.random.randint(0, len(gs))\n",
    "\n",
    "plt.figure(figsize=(7,7))\n",
    "plt.plot(grid, specs_no_cont_syn[ix])\n",
    "plt.xlabel('Wavelength [$\\AA$]')\n",
    "plt.ylabel('Normalized Flux [ul]')\n",
    "plt.title('Synthetic Object')\n",
    "plt.show()"
   ]
  },
  {
   "cell_type": "markdown",
   "metadata": {},
   "source": [
    "## 3.2. Fit RF"
   ]
  },
  {
   "cell_type": "code",
   "execution_count": null,
   "metadata": {},
   "outputs": [],
   "source": [
    "# Set RF hyperparameters\n",
    "n_est = 100\n",
    "rf = sklearn.ensemble.RandomForestClassifier(n_estimators=n_est,\n",
    "                                                     max_features=len(grid)/5,\n",
    "                                                     min_samples_split=10,\n",
    "                                                     n_jobs=-1,\n",
    "                                                     verbose=1)\n",
    "# Fit RF classifier\n",
    "rf.fit(X, y)"
   ]
  },
  {
   "cell_type": "markdown",
   "metadata": {},
   "source": [
    "** How good is the classification? **"
   ]
  },
  {
   "cell_type": "code",
   "execution_count": null,
   "metadata": {},
   "outputs": [],
   "source": [
    "real_prob = rf.predict_proba(specs_no_cont)[:,0]\n",
    "print 'Mean probability of a real object to be classified as real: %.3f' % np.mean(real_prob)\n",
    "\n",
    "syn_prob = rf.predict_proba(specs_no_cont_syn)[:,1]\n",
    "print 'Mean probability of a synthetic object to be classified as synthetic : %.3f' % np.mean(syn_prob)"
   ]
  },
  {
   "cell_type": "markdown",
   "metadata": {},
   "source": [
    "## 3.3 Visualizing the Forest"
   ]
  },
  {
   "cell_type": "markdown",
   "metadata": {},
   "source": [
    "** How deep are the trees? **"
   ]
  },
  {
   "cell_type": "code",
   "execution_count": null,
   "metadata": {},
   "outputs": [],
   "source": [
    "# Calculate trees' depths\n",
    "trees_depths = [est.tree_.max_depth for est in rf.estimators_]\n",
    "\n",
    "# Print Statistics\n",
    "print describe(trees_depths)\n",
    "\n",
    "# Plot histogram\n",
    "plt.figure(figsize=(7,7))\n",
    "plt.hist(trees_depths, bins=n_est/10)\n",
    "plt.title('Trees Depths Histogram')\n",
    "plt.xlabel('Tree Depth')\n",
    "plt.ylabel('Count')\n",
    "plt.show()"
   ]
  },
  {
   "cell_type": "markdown",
   "metadata": {},
   "source": [
    "** How many observations are there in the leafs? **"
   ]
  },
  {
   "cell_type": "code",
   "execution_count": null,
   "metadata": {},
   "outputs": [],
   "source": [
    "# Calculate leafs' sizes\n",
    "leafs_sizes = get_leaf_sizes(rf, specs_no_cont)\n",
    "        \n",
    "# Print Statistics\n",
    "print describe(leafs_sizes)\n",
    "\n",
    "# Plot histogram\n",
    "plt.figure(figsize=(7,7))\n",
    "plt.hist(leafs_sizes, n_est*(2*len(gs))/3000)\n",
    "plt.title('Leaf Sizes Histogram')\n",
    "plt.xlabel('Leaf Size')\n",
    "plt.ylabel('Count')\n",
    "plt.show()"
   ]
  },
  {
   "cell_type": "markdown",
   "metadata": {},
   "source": [
    "## 3.4. Calculate Dissimilarity Matrix"
   ]
  },
  {
   "cell_type": "code",
   "execution_count": null,
   "metadata": {
    "scrolled": false
   },
   "outputs": [],
   "source": [
    "dis_mat = calcDisMat(rf, specs_no_cont)"
   ]
  },
  {
   "cell_type": "markdown",
   "metadata": {},
   "source": [
    "# 4. Analyze Results"
   ]
  },
  {
   "cell_type": "markdown",
   "metadata": {},
   "source": [
    "## 4.1. Visualize with t-SNE"
   ]
  },
  {
   "cell_type": "markdown",
   "metadata": {},
   "source": [
    "### Calculate t-SNE map based on the dissimilarity matrix"
   ]
  },
  {
   "cell_type": "code",
   "execution_count": null,
   "metadata": {},
   "outputs": [],
   "source": [
    "sne = sklearn.manifold.TSNE(n_components=2, perplexity=25, metric='precomputed', verbose=1).fit_transform(dis_mat)\n",
    "\n",
    "sne_f1 = sne[:, 0]\n",
    "sne_f2 = sne[:, 1]"
   ]
  },
  {
   "cell_type": "markdown",
   "metadata": {},
   "source": [
    "### Plot t-SNE Map"
   ]
  },
  {
   "cell_type": "code",
   "execution_count": null,
   "metadata": {},
   "outputs": [],
   "source": [
    "plt.figure(figsize=(7,7))\n",
    "plt.scatter(sne_f1, sne_f2, s=3)\n",
    "plt.xlabel('t-SNE Feature 1')\n",
    "plt.ylabel('t-SNE Feature 2')\n",
    "plt.title('t-SNE Scatter Plot')\n",
    "plt.show()"
   ]
  },
  {
   "cell_type": "markdown",
   "metadata": {},
   "source": [
    "** Let's color it by the average color ($\\bar{\\lambda}$)**"
   ]
  },
  {
   "cell_type": "code",
   "execution_count": null,
   "metadata": {},
   "outputs": [],
   "source": [
    "# First, we must calculate the average color.\n",
    "# notice that we use the spectrum before the continuum was removed.\n",
    "gs['avg_clr'] = np.array([np.average(grid, weights=x) for x in specs])\n",
    "\n",
    "# t-SNE Scatter plot zoomed in colored by the average color.\n",
    "fig = plt.figure(figsize=(7,7))\n",
    "ax1 = fig.add_subplot(111)\n",
    "im_scat = ax1.scatter(sne_f1, sne_f2, s=3, c=gs.avg_clr, cmap=plt.cm.get_cmap('nipy_spectral'))\n",
    "ax1.set_xlabel('t-SNE Feature 1')\n",
    "ax1.set_ylabel('t-SNE Feature 2')\n",
    "ax1.set_title(r't-SNE Scatter Plot Colored by $\\bar{\\lambda}$')\n",
    "\n",
    "clb = fig.colorbar(im_scat, ax=ax1)\n",
    "clb.ax.text(3,0.5, r'$\\bar{\\lambda}$ [$\\AA$]', rotation=270)\n",
    "\n",
    "plt.show()"
   ]
  },
  {
   "cell_type": "markdown",
   "metadata": {},
   "source": [
    "## 4.2. Outlies"
   ]
  },
  {
   "cell_type": "markdown",
   "metadata": {},
   "source": [
    "### Calculate Weirdness Scores"
   ]
  },
  {
   "cell_type": "code",
   "execution_count": null,
   "metadata": {},
   "outputs": [],
   "source": [
    "w_n = 10\n",
    "gs['w'] = np.array([np.mean(np.partition(np.delete(row, 0), w_n)[:w_n]) for row in dis_mat])"
   ]
  },
  {
   "cell_type": "markdown",
   "metadata": {},
   "source": [
    "** Weirdness Scores Distribution **"
   ]
  },
  {
   "cell_type": "code",
   "execution_count": null,
   "metadata": {},
   "outputs": [],
   "source": [
    "# Print Statistics\n",
    "print describe(trees_depths)\n",
    "\n",
    "# Plot histogram\n",
    "plt.figure(figsize=(7,7))\n",
    "plt.hist(gs.w, len(gs)/50)\n",
    "plt.title('Weirdness Score Histogram')\n",
    "plt.xlabel('Weirdness Score')\n",
    "plt.ylabel('Count')\n",
    "plt.show()"
   ]
  },
  {
   "cell_type": "markdown",
   "metadata": {},
   "source": [
    "### Top outliers"
   ]
  },
  {
   "cell_type": "code",
   "execution_count": null,
   "metadata": {},
   "outputs": [],
   "source": [
    "# Top outliers indices\n",
    "ol_ixs = np.argsort(gs.w)[::-1]"
   ]
  },
  {
   "cell_type": "markdown",
   "metadata": {},
   "source": [
    "** Let's see the 10 weirdest galaxies **"
   ]
  },
  {
   "cell_type": "code",
   "execution_count": null,
   "metadata": {},
   "outputs": [],
   "source": [
    "gs.iloc[ol_ixs[:10]].style.format({'url': make_clickable}) # The url column is now clickable, so it's easy to inspect them"
   ]
  },
  {
   "cell_type": "markdown",
   "metadata": {},
   "source": [
    "## 4.3. Finding Similar Objects"
   ]
  },
  {
   "cell_type": "markdown",
   "metadata": {},
   "source": [
    "** Let's look for a galaxy which is the most similar to a random galaxy **"
   ]
  },
  {
   "cell_type": "code",
   "execution_count": null,
   "metadata": {},
   "outputs": [],
   "source": [
    "# Draw a random galaxy\n",
    "ix = np.random.randint(0, len(gs))\n",
    "\n",
    "# Find its nearest neighbor\n",
    "ix_sim = np.argsort(dis_mat[ix])[1]\n",
    "\n",
    "# Plot both spectrum before & after removing the continuum\n",
    "\n",
    "fig, axarr = plt.subplots(1, 2)\n",
    "\n",
    "fig.set_figheight(7)\n",
    "fig.set_figwidth(14)\n",
    "\n",
    "ax1 = axarr[0]\n",
    "ax1.plot(grid, specs[ix], label='Flux 1')\n",
    "ax1.plot(grid, specs[ix_sim], label='Flux 2')\n",
    "ax1.set_xlabel('Wavelength [$\\AA$]')\n",
    "ax1.set_ylabel('Normalized Flux [ul]')\n",
    "ax1.set_title('Before')\n",
    "ax1.legend()\n",
    "\n",
    "ax2 = axarr[1]\n",
    "ax2.plot(grid, specs_no_cont[ix], label='Flux 1')\n",
    "ax2.plot(grid, specs_no_cont[ix_sim], label='Flux 2')\n",
    "ax2.set_xlabel('Wavelength [$\\AA$]')\n",
    "ax2.set_ylabel('Normalized Flux [ul]')\n",
    "ax2.set_title('After')\n",
    "ax2.legend()\n",
    "\n",
    "plt.show()\n",
    "\n",
    "## Show their details\n",
    "gs.iloc[[ix, ix_sim]].style.format({'url': make_clickable})"
   ]
  }
 ],
 "metadata": {
  "kernelspec": {
   "display_name": "Python 2",
   "language": "python",
   "name": "python2"
  },
  "language_info": {
   "codemirror_mode": {
    "name": "ipython",
    "version": 2
   },
   "file_extension": ".py",
   "mimetype": "text/x-python",
   "name": "python",
   "nbconvert_exporter": "python",
   "pygments_lexer": "ipython2",
   "version": "2.7.15"
  }
 },
 "nbformat": 4,
 "nbformat_minor": 2
}
